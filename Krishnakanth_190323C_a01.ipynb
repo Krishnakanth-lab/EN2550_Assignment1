{
 "cells": [
  {
   "cell_type": "markdown",
   "metadata": {},
   "source": [
    "### Name: Krishnakanth N.\n",
    "### Index No: 190323C"
   ]
  },
  {
   "cell_type": "code",
   "execution_count": null,
   "metadata": {},
   "outputs": [],
   "source": []
  }
 ],
 "metadata": {
  "interpreter": {
   "hash": "ae644b06b7e741c0976f20c935bb9423862cc3d9659705be8e338da6d2c74389"
  },
  "kernelspec": {
   "display_name": "Python 3.9.7 ('cv')",
   "language": "python",
   "name": "python3"
  },
  "language_info": {
   "name": "python",
   "version": "3.9.7"
  },
  "orig_nbformat": 4
 },
 "nbformat": 4,
 "nbformat_minor": 2
}
